{
 "cells": [
  {
   "cell_type": "markdown",
   "metadata": {
    "toc": true
   },
   "source": [
    "<h1>Table of Contents<span class=\"tocSkip\"></span></h1>\n",
    "<div class=\"toc\"><ul class=\"toc-item\"></ul></div>"
   ]
  },
  {
   "cell_type": "code",
   "execution_count": 1,
   "metadata": {},
   "outputs": [],
   "source": [
    "import numpy as np\n",
    "from math import exp\n",
    "from numpy.random import rand\n",
    "import random\n",
    "from lib.entities import State\n",
    "from lib.operations import Dataset"
   ]
  },
  {
   "cell_type": "code",
   "execution_count": 2,
   "metadata": {},
   "outputs": [],
   "source": [
    "dataset = Dataset()\n",
    "with open(\"./data/input/simple_input.json\", 'r') as f:\n",
    "    dataset.read_json(f)"
   ]
  },
  {
   "cell_type": "code",
   "execution_count": 3,
   "metadata": {},
   "outputs": [
    {
     "data": {
      "text/plain": [
       "2"
      ]
     },
     "execution_count": 3,
     "metadata": {},
     "output_type": "execute_result"
    }
   ],
   "source": [
    "len(dataset.couriers)"
   ]
  },
  {
   "cell_type": "code",
   "execution_count": 4,
   "metadata": {
    "code_folding": [
     6,
     10,
     14,
     18
    ]
   },
   "outputs": [],
   "source": [
    "def gibbs_probability(energy_old, energy_new, temp):\n",
    "    if energy_old > energy_new:\n",
    "        return 1\n",
    "    else:\n",
    "        return exp(-1.0 * (energy_old - energy_new) / temp)\n",
    "\n",
    "def trivial_temperature(t):\n",
    "    return t\n",
    "\n",
    "\n",
    "def trivial_energy(state):\n",
    "    return 100.\n",
    "\n",
    "\n",
    "def trivial_probability(energy_before, energy_after, temp):\n",
    "    return 1.\n",
    "\n",
    "\n",
    "class TrivialState:\n",
    "    def __init__(self, p):\n",
    "        self.param = p\n",
    "    \n",
    "    def get_neighbour(self):\n",
    "        return TrivialState(self.param + 1)"
   ]
  },
  {
   "cell_type": "code",
   "execution_count": 5,
   "metadata": {
    "code_folding": []
   },
   "outputs": [],
   "source": [
    "class SimmulatedAnnealing(object):\n",
    "    # TODO: add default parameters\n",
    "    def __init__(self, temperature_func, probability_func):\n",
    "        \"\"\"\n",
    "        temperature_func(param) where param belongs to [0, 1]\n",
    "        energy_func(state)\n",
    "        probability_func()\n",
    "        \"\"\"\n",
    "        self.temperature = temperature_func\n",
    "        self.probability = probability_func\n",
    "    \n",
    "    def score(self, state):\n",
    "        return state.max_money - state.energy()\n",
    "    \n",
    "    def fit_predict(self, initial_state, niter=15000):\n",
    "        \"\"\" Returns final state after processing of niter iterations \"\"\"\n",
    "        temp = np.inf\n",
    "        state = initial_state\n",
    "        \n",
    "        for iter in range(1, niter + 1):\n",
    "            temp = self.temperature(1. * (niter + 1 - iter) / niter * state.max_money / 100.0)\n",
    "            new_state = state.get_neighbour()\n",
    "            \n",
    "            if self.probability(state.energy(), new_state.energy(), temp) > rand():\n",
    "                state = new_state\n",
    "            if iter % 1000 == 0:\n",
    "                print(\"Completed\", iter, \"iterations\", \"score =\", self.score(new_state))\n",
    "                \n",
    "        return state"
   ]
  },
  {
   "cell_type": "code",
   "execution_count": 6,
   "metadata": {},
   "outputs": [],
   "source": [
    "model = SimmulatedAnnealing(trivial_temperature, gibbs_probability)"
   ]
  },
  {
   "cell_type": "code",
   "execution_count": 7,
   "metadata": {},
   "outputs": [
    {
     "name": "stdout",
     "output_type": "stream",
     "text": [
      "Completed 1000 iterations score = 1364.0\n",
      "CPU times: user 7.87 s, sys: 1.16 ms, total: 7.87 s\n",
      "Wall time: 7.87 s\n"
     ]
    }
   ],
   "source": [
    "%%time\n",
    "\n",
    "initial_state = State(dataset) # make something smart\n",
    "\n",
    "ans_state = model.fit_predict(initial_state, niter=1000)"
   ]
  },
  {
   "cell_type": "code",
   "execution_count": 8,
   "metadata": {},
   "outputs": [
    {
     "data": {
      "text/plain": [
       "1364.0"
      ]
     },
     "execution_count": 8,
     "metadata": {},
     "output_type": "execute_result"
    }
   ],
   "source": [
    "ans_state.max_money - ans_state.energy()"
   ]
  },
  {
   "cell_type": "code",
   "execution_count": 9,
   "metadata": {},
   "outputs": [
    {
     "data": {
      "text/plain": [
       "1800"
      ]
     },
     "execution_count": 9,
     "metadata": {},
     "output_type": "execute_result"
    }
   ],
   "source": [
    "ans_state.max_money"
   ]
  },
  {
   "cell_type": "code",
   "execution_count": 11,
   "metadata": {},
   "outputs": [],
   "source": [
    "with open(\"data/output/simple_output.json\", 'w') as fd:\n",
    "    ans_state.convert_to_json(fd)"
   ]
  }
 ],
 "metadata": {
  "kernelspec": {
   "display_name": "Python 3",
   "language": "python",
   "name": "python3"
  },
  "language_info": {
   "codemirror_mode": {
    "name": "ipython",
    "version": 3
   },
   "file_extension": ".py",
   "mimetype": "text/x-python",
   "name": "python",
   "nbconvert_exporter": "python",
   "pygments_lexer": "ipython3",
   "version": "3.6.8"
  },
  "toc": {
   "base_numbering": 1,
   "nav_menu": {},
   "number_sections": true,
   "sideBar": true,
   "skip_h1_title": true,
   "title_cell": "Table of Contents",
   "title_sidebar": "Contents",
   "toc_cell": true,
   "toc_position": {},
   "toc_section_display": true,
   "toc_window_display": false
  },
  "varInspector": {
   "cols": {
    "lenName": 16,
    "lenType": 16,
    "lenVar": 40
   },
   "kernels_config": {
    "python": {
     "delete_cmd_postfix": "",
     "delete_cmd_prefix": "del ",
     "library": "var_list.py",
     "varRefreshCmd": "print(var_dic_list())"
    },
    "r": {
     "delete_cmd_postfix": ") ",
     "delete_cmd_prefix": "rm(",
     "library": "var_list.r",
     "varRefreshCmd": "cat(var_dic_list()) "
    }
   },
   "position": {
    "height": "253.346px",
    "left": "1136.47px",
    "right": "20px",
    "top": "120px",
    "width": "350px"
   },
   "types_to_exclude": [
    "module",
    "function",
    "builtin_function_or_method",
    "instance",
    "_Feature"
   ],
   "window_display": false
  }
 },
 "nbformat": 4,
 "nbformat_minor": 2
}
